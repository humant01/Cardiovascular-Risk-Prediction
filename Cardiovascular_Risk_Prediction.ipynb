{
  "nbformat": 4,
  "nbformat_minor": 0,
  "metadata": {
    "colab": {
      "name": "Cardiovascular Risk Prediction.ipynb",
      "provenance": [],
      "collapsed_sections": [],
      "mount_file_id": "1DpFfZX7NHETiBNRBtITF29kZFU-ieofD",
      "authorship_tag": "ABX9TyPmxKeT0MSYlymJcAhWlUI5",
      "include_colab_link": true
    },
    "kernelspec": {
      "name": "python3",
      "display_name": "Python 3"
    },
    "language_info": {
      "name": "python"
    }
  },
  "cells": [
    {
      "cell_type": "markdown",
      "metadata": {
        "id": "view-in-github",
        "colab_type": "text"
      },
      "source": [
        "<a href=\"https://colab.research.google.com/github/humantsattabhayya/Cardiovascular-Risk-Prediction/blob/main/Cardiovascular_Risk_Prediction.ipynb\" target=\"_parent\"><img src=\"https://colab.research.google.com/assets/colab-badge.svg\" alt=\"Open In Colab\"/></a>"
      ]
    },
    {
      "cell_type": "markdown",
      "metadata": {
        "id": "6yiH4df-1gM3"
      },
      "source": [
        "##**NAME : HUMANT SATTABHAYYA**"
      ]
    },
    {
      "cell_type": "markdown",
      "metadata": {
        "id": "6yNoH3gwwvVj"
      },
      "source": [
        "##**Project title: Cardiovascular Risk Prediction**"
      ]
    },
    {
      "cell_type": "markdown",
      "metadata": {
        "id": "tSMRipR2w3by"
      },
      "source": [
        "The dataset is from an ongoing cardiovascular study on residents of the town of Framingham, Massachusetts. The classification goal is to predict whether the patient has a 10-year risk of future coronary heart disease (CHD). The dataset provides the patients’ information. It includes over 4,000 records and 15 attributes."
      ]
    },
    {
      "cell_type": "markdown",
      "metadata": {
        "id": "VS0NoxRsw3Zy"
      },
      "source": [
        "##**Types of CVD:**"
      ]
    },
    {
      "cell_type": "markdown",
      "metadata": {
        "id": "0jI-79A1w3XR"
      },
      "source": [
        "There are many different types of CVD. Four of the main types are described below.\n",
        "\n",
        "**Coronary heart disease**\n",
        "\n",
        "Coronary heart disease occurs when the flow of oxygen-rich blood to the heart muscle is blocked or reduced.\n",
        "\n",
        "This puts an increased strain on the heart, and can lead to:\n",
        "\n",
        "* angina – chest pain caused by restricted blood flow to the heart muscle\n",
        "* heart attacks – where the blood flow to the heart muscle is suddenly blocked\n",
        "* heart failure – where the heart is unable to pump blood around the body properly"
      ]
    },
    {
      "cell_type": "markdown",
      "metadata": {
        "id": "nGWCLMiZw3Uy"
      },
      "source": [
        "##**Causes of CVD:**\n",
        "\n",
        "The exact cause of CVD isn't clear, but there are lots of things that can increase your risk of getting it. These are called \"risk factors\".\n",
        "\n",
        "The more risk factors you have, the greater your chances of developing CVD.\n",
        "\n",
        "If you're over 40, you'll be invited by your GP for an NHS Health Check every 5 years.\n",
        "\n",
        "Part of this check involves assessing your individual CVD risk and advising you how to reduce it if necessary.\n",
        "\n",
        "The main risk factors for CVD are outlined below:\n",
        "\n",
        "**High blood pressure:**\n",
        "\n",
        "High blood pressure (hypertension) is one of the most important risk factors for CVD. If your blood pressure is too high, it can damage your blood vessels.\n",
        "\n",
        "\n",
        "**Smoking:**\n",
        "\n",
        "Smoking and other tobacco use is also a significant risk factor for CVD. The harmful substances in tobacco can damage and narrow your blood vessels.\n",
        "\n",
        "**High cholesterol:**\n",
        "\n",
        "Cholesterol is a fatty substance found in the blood. If you have high cholesterol, it can cause your blood vessels to narrow and increase your risk of developing a blood clot.\n",
        "\n",
        "\n",
        "**Diabetes:**\n",
        "\n",
        "Diabetes is a lifelong condition that causes your blood sugar level to become too high.\n",
        "\n",
        "High blood sugar levels can damage the blood vessels, making them more likely to become narrowed.\n",
        "\n",
        "Many people with type 2 diabetes are also overweight or obese, which is also a risk factor for CVD.\n",
        "\n",
        "**Inactivity:**\n",
        "\n",
        "If you don't exercise regularly, it's more likely that you'll have high blood pressure, high cholesterol levels and be overweight. All of these are risk factors for CVD.\n",
        "\n",
        "Exercising regularly will help keep your heart healthy. When combined with a healthy diet, exercise can also help you maintain a healthy weight.\n",
        "\n",
        "**Being overweight or obese:**\n",
        "\n",
        "Being overweight or obese increases your risk of developing diabetes and high blood pressure, both of which are risk factors for CVD.\n",
        "\n",
        "You're at an increased risk of CVD if:\n",
        "\n",
        "your body mass index (BMI) is 25 or above – use the BMI healthy weight calculator to work out your BMI\n",
        "you're a man with a waist measurement of 94cm (about 37 inches) or more, or a woman with a waist measurement of 80cm (about 31.5 inches) or more"
      ]
    },
    {
      "cell_type": "markdown",
      "metadata": {
        "id": "q48GwQWWw3SK"
      },
      "source": [
        "##**Preventing CVD:**\n",
        "\n",
        "A healthy lifestyle can lower your risk of CVD. If you already have CVD, staying as healthy as possible can reduce the chances of it getting worse.\n",
        "\n",
        "Ways you can reduce your CVD risk are outlined below.\n",
        "\n",
        "**Stop smoking:**\n",
        "\n",
        "If you smoke, you should try to give up as soon as possible. The NHS Smokefree website can provide information, support and advice to help.\n",
        "\n",
        "Your GP can also provide you with advice and support. They can also prescribe medication to help you quit.\n",
        "\n",
        "\n",
        "**Have a balanced diet:**\n",
        "\n",
        "A healthy, balanced diet is recommended for a healthy heart.\n",
        "\n",
        "A balanced diet includes:\n",
        "\n",
        "low levels of saturated fat (found in foods such as fatty cuts of meat, lard, cream, cakes and biscuits) – try to include healthier sources of fat, such as oily fish, nuts and seeds, and olive oil\n",
        "low levels of salt – aim for less than 6g (0.2oz or 1 teaspoon) a day\n",
        "low levels of sugar\n",
        "plenty of fibre and wholegrain foods\n",
        "plenty of fruit and vegetables – eat at least 5 portions of fruit and vegetables a day\n",
        "\n",
        "\n",
        "**Exercise regularly:**\n",
        "\n",
        "Adults are advised to do at least 150 minutes of moderate activity a week, such as cycling or brisk walking.\n",
        "\n",
        "If you find it difficult to do this, start at a level you feel comfortable with and gradually increase the duration and intensity of your activity as your fitness improves.\n",
        "\n",
        "Visit your GP for a health check if you haven't exercised before or you're returning to exercise after a long break.\n",
        "\n",
        "\n",
        "**Maintain a healthy weight:**\n",
        "\n",
        "If you're overweight or obese, a combination of regular exercise and a healthy diet can help you lose weight. Aim to get your BMI below 25.\n",
        "\n",
        "If you're struggling to lose weight, your GP or practice nurse can help you come up with a weight loss plan and recommend services in your area.\n",
        "\n",
        "\n",
        "**Cut down on alcohol:**\n",
        "\n",
        "If you drink alcohol, try not to exceed the recommended limit of 14 alcohol units a week for men and women.\n",
        "\n",
        "If you do drink this much, you should aim to spread your drinking over 3 days or more.\n",
        "\n",
        "A unit of alcohol is roughly equivalent to half a pint of normal-strength lager or a single measure (25ml) of spirits. A small glass of wine (125ml) is about 1.5 units.\n",
        "\n",
        "Your GP can give you help and advice if you're finding it difficult to cut down your drinking.\n",
        "\n",
        "\n",
        "**Medication:**\n",
        "\n",
        "If you have a particularly high risk of developing CVD, your GP may recommend taking medication to reduce your risk.\n",
        "\n",
        "Medications that may be recommended include statins to lower blood cholesterol levels, low-dose aspirin to prevent blood clots, and tablets to reduce blood pressure."
      ]
    },
    {
      "cell_type": "markdown",
      "metadata": {
        "id": "9SvsziVdw3Pc"
      },
      "source": [
        "##**Variables**\n",
        "Each attribute is a potential risk factor. There are both demographic, behavioral, and medical risk\n",
        "factors.\n",
        "Data Description\n",
        "Demographic:\n",
        "* Sex: male or female(\"M\" or \"F\")\n",
        "* Age: Age of the patient;(Continuous - Although the recorded ages have been truncated to\n",
        "whole numbers, the concept of age is continuous)\n",
        "Behavioral\n",
        "* is_smoking: whether or not the patient is a current smoker (\"YES\" or \"NO\")\n",
        "* Cigs Per Day: the number of cigarettes that the person smoked on average in one day.(can be\n",
        "considered continuous as one can have any number of cigarettes, even half a cigarette.)\n",
        "Medical( history)\n",
        "* BP Meds: whether or not the patient was on blood pressure medication (Nominal)\n",
        "* Prevalent Stroke: whether or not the patient had previously had a stroke (Nominal)\n",
        "* Prevalent Hyp: whether or not the patient was hypertensive (Nominal)\n",
        "* Diabetes: whether or not the patient had diabetes (Nominal)\n",
        "Medical(current)\n",
        "* Tot Chol: total cholesterol level (Continuous)\n",
        "* Sys BP: systolic blood pressure (Continuous)\n",
        "* Dia BP: diastolic blood pressure (Continuous)\n",
        "* BMI: Body Mass Index (Continuous)\n",
        "* Heart Rate: heart rate (Continuous - In medical research, variables such as heart rate though in\n",
        "* Glucose: glucose level (Continuous)\n",
        "Predict variable (desired target)\n",
        "* 10-year risk of coronary heart disease CHD(binary: “1”, means “Yes”, “0” means “No”) -DV"
      ]
    },
    {
      "cell_type": "markdown",
      "metadata": {
        "id": "QcTezYP7xTwk"
      },
      "source": [
        "##Importing libraries:"
      ]
    },
    {
      "cell_type": "code",
      "metadata": {
        "id": "m78t4TkxwW9g"
      },
      "source": [
        "#importing libraries\n",
        "import numpy as np\n",
        "from numpy import math\n",
        "import pandas as pd\n",
        "import seaborn as sns\n",
        "import matplotlib.pyplot as plt\n",
        "import warnings\n",
        "warnings.filterwarnings('ignore')"
      ],
      "execution_count": null,
      "outputs": []
    },
    {
      "cell_type": "markdown",
      "metadata": {
        "id": "EmJEbtiFxZ3t"
      },
      "source": [
        "##Importing file:"
      ]
    },
    {
      "cell_type": "code",
      "metadata": {
        "id": "9Bl01AJzxnPd"
      },
      "source": [
        "#reading csv file\n",
        "cardio_df=pd.read_csv('/content/drive/MyDrive/Alma better/Data/data_cardiovascular_risk.csv')"
      ],
      "execution_count": null,
      "outputs": []
    },
    {
      "cell_type": "code",
      "metadata": {
        "colab": {
          "base_uri": "https://localhost:8080/",
          "height": 203
        },
        "id": "KuBpfun0xoEH",
        "outputId": "257d6636-09c4-4f5d-e056-13b45309d56f"
      },
      "source": [
        "#upper 5 rows of dataset\n",
        "cardio_df.head()"
      ],
      "execution_count": null,
      "outputs": [
        {
          "output_type": "execute_result",
          "data": {
            "text/html": [
              "<div>\n",
              "<style scoped>\n",
              "    .dataframe tbody tr th:only-of-type {\n",
              "        vertical-align: middle;\n",
              "    }\n",
              "\n",
              "    .dataframe tbody tr th {\n",
              "        vertical-align: top;\n",
              "    }\n",
              "\n",
              "    .dataframe thead th {\n",
              "        text-align: right;\n",
              "    }\n",
              "</style>\n",
              "<table border=\"1\" class=\"dataframe\">\n",
              "  <thead>\n",
              "    <tr style=\"text-align: right;\">\n",
              "      <th></th>\n",
              "      <th>id</th>\n",
              "      <th>age</th>\n",
              "      <th>education</th>\n",
              "      <th>sex</th>\n",
              "      <th>is_smoking</th>\n",
              "      <th>cigsPerDay</th>\n",
              "      <th>BPMeds</th>\n",
              "      <th>prevalentStroke</th>\n",
              "      <th>prevalentHyp</th>\n",
              "      <th>diabetes</th>\n",
              "      <th>totChol</th>\n",
              "      <th>sysBP</th>\n",
              "      <th>diaBP</th>\n",
              "      <th>BMI</th>\n",
              "      <th>heartRate</th>\n",
              "      <th>glucose</th>\n",
              "      <th>TenYearCHD</th>\n",
              "    </tr>\n",
              "  </thead>\n",
              "  <tbody>\n",
              "    <tr>\n",
              "      <th>0</th>\n",
              "      <td>0</td>\n",
              "      <td>64</td>\n",
              "      <td>2.0</td>\n",
              "      <td>F</td>\n",
              "      <td>YES</td>\n",
              "      <td>3.0</td>\n",
              "      <td>0.0</td>\n",
              "      <td>0</td>\n",
              "      <td>0</td>\n",
              "      <td>0</td>\n",
              "      <td>221.0</td>\n",
              "      <td>148.0</td>\n",
              "      <td>85.0</td>\n",
              "      <td>NaN</td>\n",
              "      <td>90.0</td>\n",
              "      <td>80.0</td>\n",
              "      <td>1</td>\n",
              "    </tr>\n",
              "    <tr>\n",
              "      <th>1</th>\n",
              "      <td>1</td>\n",
              "      <td>36</td>\n",
              "      <td>4.0</td>\n",
              "      <td>M</td>\n",
              "      <td>NO</td>\n",
              "      <td>0.0</td>\n",
              "      <td>0.0</td>\n",
              "      <td>0</td>\n",
              "      <td>1</td>\n",
              "      <td>0</td>\n",
              "      <td>212.0</td>\n",
              "      <td>168.0</td>\n",
              "      <td>98.0</td>\n",
              "      <td>29.77</td>\n",
              "      <td>72.0</td>\n",
              "      <td>75.0</td>\n",
              "      <td>0</td>\n",
              "    </tr>\n",
              "    <tr>\n",
              "      <th>2</th>\n",
              "      <td>2</td>\n",
              "      <td>46</td>\n",
              "      <td>1.0</td>\n",
              "      <td>F</td>\n",
              "      <td>YES</td>\n",
              "      <td>10.0</td>\n",
              "      <td>0.0</td>\n",
              "      <td>0</td>\n",
              "      <td>0</td>\n",
              "      <td>0</td>\n",
              "      <td>250.0</td>\n",
              "      <td>116.0</td>\n",
              "      <td>71.0</td>\n",
              "      <td>20.35</td>\n",
              "      <td>88.0</td>\n",
              "      <td>94.0</td>\n",
              "      <td>0</td>\n",
              "    </tr>\n",
              "    <tr>\n",
              "      <th>3</th>\n",
              "      <td>3</td>\n",
              "      <td>50</td>\n",
              "      <td>1.0</td>\n",
              "      <td>M</td>\n",
              "      <td>YES</td>\n",
              "      <td>20.0</td>\n",
              "      <td>0.0</td>\n",
              "      <td>0</td>\n",
              "      <td>1</td>\n",
              "      <td>0</td>\n",
              "      <td>233.0</td>\n",
              "      <td>158.0</td>\n",
              "      <td>88.0</td>\n",
              "      <td>28.26</td>\n",
              "      <td>68.0</td>\n",
              "      <td>94.0</td>\n",
              "      <td>1</td>\n",
              "    </tr>\n",
              "    <tr>\n",
              "      <th>4</th>\n",
              "      <td>4</td>\n",
              "      <td>64</td>\n",
              "      <td>1.0</td>\n",
              "      <td>F</td>\n",
              "      <td>YES</td>\n",
              "      <td>30.0</td>\n",
              "      <td>0.0</td>\n",
              "      <td>0</td>\n",
              "      <td>0</td>\n",
              "      <td>0</td>\n",
              "      <td>241.0</td>\n",
              "      <td>136.5</td>\n",
              "      <td>85.0</td>\n",
              "      <td>26.42</td>\n",
              "      <td>70.0</td>\n",
              "      <td>77.0</td>\n",
              "      <td>0</td>\n",
              "    </tr>\n",
              "  </tbody>\n",
              "</table>\n",
              "</div>"
            ],
            "text/plain": [
              "   id  age  education sex  ...    BMI  heartRate  glucose  TenYearCHD\n",
              "0   0   64        2.0   F  ...    NaN       90.0     80.0           1\n",
              "1   1   36        4.0   M  ...  29.77       72.0     75.0           0\n",
              "2   2   46        1.0   F  ...  20.35       88.0     94.0           0\n",
              "3   3   50        1.0   M  ...  28.26       68.0     94.0           1\n",
              "4   4   64        1.0   F  ...  26.42       70.0     77.0           0\n",
              "\n",
              "[5 rows x 17 columns]"
            ]
          },
          "metadata": {},
          "execution_count": 6
        }
      ]
    },
    {
      "cell_type": "code",
      "metadata": {
        "colab": {
          "base_uri": "https://localhost:8080/",
          "height": 203
        },
        "id": "dTg5TEGlx3MY",
        "outputId": "1acf1ca8-8348-485b-a268-4ceccc4c1c1b"
      },
      "source": [
        "#lower 5 rows of dataset\n",
        "cardio_df.tail()"
      ],
      "execution_count": null,
      "outputs": [
        {
          "output_type": "execute_result",
          "data": {
            "text/html": [
              "<div>\n",
              "<style scoped>\n",
              "    .dataframe tbody tr th:only-of-type {\n",
              "        vertical-align: middle;\n",
              "    }\n",
              "\n",
              "    .dataframe tbody tr th {\n",
              "        vertical-align: top;\n",
              "    }\n",
              "\n",
              "    .dataframe thead th {\n",
              "        text-align: right;\n",
              "    }\n",
              "</style>\n",
              "<table border=\"1\" class=\"dataframe\">\n",
              "  <thead>\n",
              "    <tr style=\"text-align: right;\">\n",
              "      <th></th>\n",
              "      <th>id</th>\n",
              "      <th>age</th>\n",
              "      <th>education</th>\n",
              "      <th>sex</th>\n",
              "      <th>is_smoking</th>\n",
              "      <th>cigsPerDay</th>\n",
              "      <th>BPMeds</th>\n",
              "      <th>prevalentStroke</th>\n",
              "      <th>prevalentHyp</th>\n",
              "      <th>diabetes</th>\n",
              "      <th>totChol</th>\n",
              "      <th>sysBP</th>\n",
              "      <th>diaBP</th>\n",
              "      <th>BMI</th>\n",
              "      <th>heartRate</th>\n",
              "      <th>glucose</th>\n",
              "      <th>TenYearCHD</th>\n",
              "    </tr>\n",
              "  </thead>\n",
              "  <tbody>\n",
              "    <tr>\n",
              "      <th>3385</th>\n",
              "      <td>3385</td>\n",
              "      <td>60</td>\n",
              "      <td>1.0</td>\n",
              "      <td>F</td>\n",
              "      <td>NO</td>\n",
              "      <td>0.0</td>\n",
              "      <td>0.0</td>\n",
              "      <td>0</td>\n",
              "      <td>0</td>\n",
              "      <td>0</td>\n",
              "      <td>261.0</td>\n",
              "      <td>123.5</td>\n",
              "      <td>79.0</td>\n",
              "      <td>29.28</td>\n",
              "      <td>70.0</td>\n",
              "      <td>103.0</td>\n",
              "      <td>0</td>\n",
              "    </tr>\n",
              "    <tr>\n",
              "      <th>3386</th>\n",
              "      <td>3386</td>\n",
              "      <td>46</td>\n",
              "      <td>1.0</td>\n",
              "      <td>F</td>\n",
              "      <td>NO</td>\n",
              "      <td>0.0</td>\n",
              "      <td>0.0</td>\n",
              "      <td>0</td>\n",
              "      <td>0</td>\n",
              "      <td>0</td>\n",
              "      <td>199.0</td>\n",
              "      <td>102.0</td>\n",
              "      <td>56.0</td>\n",
              "      <td>21.96</td>\n",
              "      <td>80.0</td>\n",
              "      <td>84.0</td>\n",
              "      <td>0</td>\n",
              "    </tr>\n",
              "    <tr>\n",
              "      <th>3387</th>\n",
              "      <td>3387</td>\n",
              "      <td>44</td>\n",
              "      <td>3.0</td>\n",
              "      <td>M</td>\n",
              "      <td>YES</td>\n",
              "      <td>3.0</td>\n",
              "      <td>0.0</td>\n",
              "      <td>0</td>\n",
              "      <td>1</td>\n",
              "      <td>0</td>\n",
              "      <td>352.0</td>\n",
              "      <td>164.0</td>\n",
              "      <td>119.0</td>\n",
              "      <td>28.92</td>\n",
              "      <td>73.0</td>\n",
              "      <td>72.0</td>\n",
              "      <td>1</td>\n",
              "    </tr>\n",
              "    <tr>\n",
              "      <th>3388</th>\n",
              "      <td>3388</td>\n",
              "      <td>60</td>\n",
              "      <td>1.0</td>\n",
              "      <td>M</td>\n",
              "      <td>NO</td>\n",
              "      <td>0.0</td>\n",
              "      <td>NaN</td>\n",
              "      <td>0</td>\n",
              "      <td>1</td>\n",
              "      <td>0</td>\n",
              "      <td>191.0</td>\n",
              "      <td>167.0</td>\n",
              "      <td>105.0</td>\n",
              "      <td>23.01</td>\n",
              "      <td>80.0</td>\n",
              "      <td>85.0</td>\n",
              "      <td>0</td>\n",
              "    </tr>\n",
              "    <tr>\n",
              "      <th>3389</th>\n",
              "      <td>3389</td>\n",
              "      <td>54</td>\n",
              "      <td>3.0</td>\n",
              "      <td>F</td>\n",
              "      <td>NO</td>\n",
              "      <td>0.0</td>\n",
              "      <td>0.0</td>\n",
              "      <td>0</td>\n",
              "      <td>0</td>\n",
              "      <td>0</td>\n",
              "      <td>288.0</td>\n",
              "      <td>124.0</td>\n",
              "      <td>77.0</td>\n",
              "      <td>29.88</td>\n",
              "      <td>79.0</td>\n",
              "      <td>92.0</td>\n",
              "      <td>0</td>\n",
              "    </tr>\n",
              "  </tbody>\n",
              "</table>\n",
              "</div>"
            ],
            "text/plain": [
              "        id  age  education sex  ...    BMI  heartRate  glucose  TenYearCHD\n",
              "3385  3385   60        1.0   F  ...  29.28       70.0    103.0           0\n",
              "3386  3386   46        1.0   F  ...  21.96       80.0     84.0           0\n",
              "3387  3387   44        3.0   M  ...  28.92       73.0     72.0           1\n",
              "3388  3388   60        1.0   M  ...  23.01       80.0     85.0           0\n",
              "3389  3389   54        3.0   F  ...  29.88       79.0     92.0           0\n",
              "\n",
              "[5 rows x 17 columns]"
            ]
          },
          "metadata": {},
          "execution_count": 7
        }
      ]
    },
    {
      "cell_type": "code",
      "metadata": {
        "colab": {
          "base_uri": "https://localhost:8080/"
        },
        "id": "6O4pbfT6x6zn",
        "outputId": "68e06a90-5cf9-4a16-8d43-293b2c950d3f"
      },
      "source": [
        "#rows and columns of dataset\n",
        "cardio_df.shape"
      ],
      "execution_count": null,
      "outputs": [
        {
          "output_type": "execute_result",
          "data": {
            "text/plain": [
              "(3390, 17)"
            ]
          },
          "metadata": {},
          "execution_count": 8
        }
      ]
    },
    {
      "cell_type": "code",
      "metadata": {
        "id": "R78SW7WIx89M"
      },
      "source": [
        "# rename columns\n",
        "cardio_df = cardio_df.rename(columns={'id':'ID','age':'Age','education':'Education','sex':'Gender','is_smoking':'Smoking','cigsPerDay':'Cig_Per_Day',\n",
        "                                      'BPMeds':'BP_Medication','prevalentStroke':'Had_Stroke','prevalentHyp':'Was_Hypertensive','diabetes':'Had_Diabetes',\n",
        "                                      'totChol':'Tot_chol_Level','sysBP':'Systolic_BP','diaBP':'Diastolic _BP','glucose':'Glucose_level','TenYearCHD':'Ten_Year_Risk'})"
      ],
      "execution_count": null,
      "outputs": []
    },
    {
      "cell_type": "code",
      "metadata": {
        "colab": {
          "base_uri": "https://localhost:8080/",
          "height": 240
        },
        "id": "dPs8DqZByAEO",
        "outputId": "c9d4b65f-80aa-4a40-8699-fb2fa0847ae2"
      },
      "source": [
        "cardio_df.head()"
      ],
      "execution_count": null,
      "outputs": [
        {
          "output_type": "execute_result",
          "data": {
            "text/html": [
              "<div>\n",
              "<style scoped>\n",
              "    .dataframe tbody tr th:only-of-type {\n",
              "        vertical-align: middle;\n",
              "    }\n",
              "\n",
              "    .dataframe tbody tr th {\n",
              "        vertical-align: top;\n",
              "    }\n",
              "\n",
              "    .dataframe thead th {\n",
              "        text-align: right;\n",
              "    }\n",
              "</style>\n",
              "<table border=\"1\" class=\"dataframe\">\n",
              "  <thead>\n",
              "    <tr style=\"text-align: right;\">\n",
              "      <th></th>\n",
              "      <th>ID</th>\n",
              "      <th>Age</th>\n",
              "      <th>Education</th>\n",
              "      <th>Gender</th>\n",
              "      <th>Smoking</th>\n",
              "      <th>Cig_Per_Day</th>\n",
              "      <th>BP_Medication</th>\n",
              "      <th>Had_Stroke</th>\n",
              "      <th>Was_Hypertensive</th>\n",
              "      <th>Had_Diabetes</th>\n",
              "      <th>Tot_chol_Level</th>\n",
              "      <th>Systolic_BP</th>\n",
              "      <th>Diastolic _BP</th>\n",
              "      <th>BMI</th>\n",
              "      <th>heartRate</th>\n",
              "      <th>Glucose_level</th>\n",
              "      <th>Ten_Year_Risk</th>\n",
              "    </tr>\n",
              "  </thead>\n",
              "  <tbody>\n",
              "    <tr>\n",
              "      <th>0</th>\n",
              "      <td>0</td>\n",
              "      <td>64</td>\n",
              "      <td>2.0</td>\n",
              "      <td>F</td>\n",
              "      <td>YES</td>\n",
              "      <td>3.0</td>\n",
              "      <td>0.0</td>\n",
              "      <td>0</td>\n",
              "      <td>0</td>\n",
              "      <td>0</td>\n",
              "      <td>221.0</td>\n",
              "      <td>148.0</td>\n",
              "      <td>85.0</td>\n",
              "      <td>NaN</td>\n",
              "      <td>90.0</td>\n",
              "      <td>80.0</td>\n",
              "      <td>1</td>\n",
              "    </tr>\n",
              "    <tr>\n",
              "      <th>1</th>\n",
              "      <td>1</td>\n",
              "      <td>36</td>\n",
              "      <td>4.0</td>\n",
              "      <td>M</td>\n",
              "      <td>NO</td>\n",
              "      <td>0.0</td>\n",
              "      <td>0.0</td>\n",
              "      <td>0</td>\n",
              "      <td>1</td>\n",
              "      <td>0</td>\n",
              "      <td>212.0</td>\n",
              "      <td>168.0</td>\n",
              "      <td>98.0</td>\n",
              "      <td>29.77</td>\n",
              "      <td>72.0</td>\n",
              "      <td>75.0</td>\n",
              "      <td>0</td>\n",
              "    </tr>\n",
              "    <tr>\n",
              "      <th>2</th>\n",
              "      <td>2</td>\n",
              "      <td>46</td>\n",
              "      <td>1.0</td>\n",
              "      <td>F</td>\n",
              "      <td>YES</td>\n",
              "      <td>10.0</td>\n",
              "      <td>0.0</td>\n",
              "      <td>0</td>\n",
              "      <td>0</td>\n",
              "      <td>0</td>\n",
              "      <td>250.0</td>\n",
              "      <td>116.0</td>\n",
              "      <td>71.0</td>\n",
              "      <td>20.35</td>\n",
              "      <td>88.0</td>\n",
              "      <td>94.0</td>\n",
              "      <td>0</td>\n",
              "    </tr>\n",
              "    <tr>\n",
              "      <th>3</th>\n",
              "      <td>3</td>\n",
              "      <td>50</td>\n",
              "      <td>1.0</td>\n",
              "      <td>M</td>\n",
              "      <td>YES</td>\n",
              "      <td>20.0</td>\n",
              "      <td>0.0</td>\n",
              "      <td>0</td>\n",
              "      <td>1</td>\n",
              "      <td>0</td>\n",
              "      <td>233.0</td>\n",
              "      <td>158.0</td>\n",
              "      <td>88.0</td>\n",
              "      <td>28.26</td>\n",
              "      <td>68.0</td>\n",
              "      <td>94.0</td>\n",
              "      <td>1</td>\n",
              "    </tr>\n",
              "    <tr>\n",
              "      <th>4</th>\n",
              "      <td>4</td>\n",
              "      <td>64</td>\n",
              "      <td>1.0</td>\n",
              "      <td>F</td>\n",
              "      <td>YES</td>\n",
              "      <td>30.0</td>\n",
              "      <td>0.0</td>\n",
              "      <td>0</td>\n",
              "      <td>0</td>\n",
              "      <td>0</td>\n",
              "      <td>241.0</td>\n",
              "      <td>136.5</td>\n",
              "      <td>85.0</td>\n",
              "      <td>26.42</td>\n",
              "      <td>70.0</td>\n",
              "      <td>77.0</td>\n",
              "      <td>0</td>\n",
              "    </tr>\n",
              "  </tbody>\n",
              "</table>\n",
              "</div>"
            ],
            "text/plain": [
              "   ID  Age  Education Gender  ...    BMI  heartRate  Glucose_level  Ten_Year_Risk\n",
              "0   0   64        2.0      F  ...    NaN       90.0           80.0              1\n",
              "1   1   36        4.0      M  ...  29.77       72.0           75.0              0\n",
              "2   2   46        1.0      F  ...  20.35       88.0           94.0              0\n",
              "3   3   50        1.0      M  ...  28.26       68.0           94.0              1\n",
              "4   4   64        1.0      F  ...  26.42       70.0           77.0              0\n",
              "\n",
              "[5 rows x 17 columns]"
            ]
          },
          "metadata": {},
          "execution_count": 10
        }
      ]
    },
    {
      "cell_type": "code",
      "metadata": {
        "colab": {
          "base_uri": "https://localhost:8080/"
        },
        "id": "Jj8VbuK0yCvv",
        "outputId": "b18b0b53-2473-4803-eba9-d0e3f364d99a"
      },
      "source": [
        "#getting information\n",
        "cardio_df.info()"
      ],
      "execution_count": null,
      "outputs": [
        {
          "output_type": "stream",
          "text": [
            "<class 'pandas.core.frame.DataFrame'>\n",
            "RangeIndex: 3390 entries, 0 to 3389\n",
            "Data columns (total 17 columns):\n",
            " #   Column            Non-Null Count  Dtype  \n",
            "---  ------            --------------  -----  \n",
            " 0   ID                3390 non-null   int64  \n",
            " 1   Age               3390 non-null   int64  \n",
            " 2   Education         3303 non-null   float64\n",
            " 3   Gender            3390 non-null   object \n",
            " 4   Smoking           3390 non-null   object \n",
            " 5   Cig_Per_Day       3368 non-null   float64\n",
            " 6   BP_Medication     3346 non-null   float64\n",
            " 7   Had_Stroke        3390 non-null   int64  \n",
            " 8   Was_Hypertensive  3390 non-null   int64  \n",
            " 9   Had_Diabetes      3390 non-null   int64  \n",
            " 10  Tot_chol_Level    3352 non-null   float64\n",
            " 11  Systolic_BP       3390 non-null   float64\n",
            " 12  Diastolic _BP     3390 non-null   float64\n",
            " 13  BMI               3376 non-null   float64\n",
            " 14  heartRate         3389 non-null   float64\n",
            " 15  Glucose_level     3086 non-null   float64\n",
            " 16  Ten_Year_Risk     3390 non-null   int64  \n",
            "dtypes: float64(9), int64(6), object(2)\n",
            "memory usage: 450.4+ KB\n"
          ],
          "name": "stdout"
        }
      ]
    },
    {
      "cell_type": "code",
      "metadata": {
        "colab": {
          "base_uri": "https://localhost:8080/",
          "height": 332
        },
        "id": "A-l5Ox_ayFTp",
        "outputId": "e9126dcf-22ae-4624-af31-ae20b274289d"
      },
      "source": [
        "#getting the mean,count,min,max,etc.\n",
        "cardio_df.describe()"
      ],
      "execution_count": null,
      "outputs": [
        {
          "output_type": "execute_result",
          "data": {
            "text/html": [
              "<div>\n",
              "<style scoped>\n",
              "    .dataframe tbody tr th:only-of-type {\n",
              "        vertical-align: middle;\n",
              "    }\n",
              "\n",
              "    .dataframe tbody tr th {\n",
              "        vertical-align: top;\n",
              "    }\n",
              "\n",
              "    .dataframe thead th {\n",
              "        text-align: right;\n",
              "    }\n",
              "</style>\n",
              "<table border=\"1\" class=\"dataframe\">\n",
              "  <thead>\n",
              "    <tr style=\"text-align: right;\">\n",
              "      <th></th>\n",
              "      <th>ID</th>\n",
              "      <th>Age</th>\n",
              "      <th>Education</th>\n",
              "      <th>Cig_Per_Day</th>\n",
              "      <th>BP_Medication</th>\n",
              "      <th>Had_Stroke</th>\n",
              "      <th>Was_Hypertensive</th>\n",
              "      <th>Had_Diabetes</th>\n",
              "      <th>Tot_chol_Level</th>\n",
              "      <th>Systolic_BP</th>\n",
              "      <th>Diastolic _BP</th>\n",
              "      <th>BMI</th>\n",
              "      <th>heartRate</th>\n",
              "      <th>Glucose_level</th>\n",
              "      <th>Ten_Year_Risk</th>\n",
              "    </tr>\n",
              "  </thead>\n",
              "  <tbody>\n",
              "    <tr>\n",
              "      <th>count</th>\n",
              "      <td>3390.000000</td>\n",
              "      <td>3390.000000</td>\n",
              "      <td>3303.000000</td>\n",
              "      <td>3368.000000</td>\n",
              "      <td>3346.000000</td>\n",
              "      <td>3390.000000</td>\n",
              "      <td>3390.000000</td>\n",
              "      <td>3390.000000</td>\n",
              "      <td>3352.000000</td>\n",
              "      <td>3390.00000</td>\n",
              "      <td>3390.000000</td>\n",
              "      <td>3376.000000</td>\n",
              "      <td>3389.000000</td>\n",
              "      <td>3086.000000</td>\n",
              "      <td>3390.000000</td>\n",
              "    </tr>\n",
              "    <tr>\n",
              "      <th>mean</th>\n",
              "      <td>1694.500000</td>\n",
              "      <td>49.542183</td>\n",
              "      <td>1.970936</td>\n",
              "      <td>9.069477</td>\n",
              "      <td>0.029886</td>\n",
              "      <td>0.006490</td>\n",
              "      <td>0.315339</td>\n",
              "      <td>0.025664</td>\n",
              "      <td>237.074284</td>\n",
              "      <td>132.60118</td>\n",
              "      <td>82.883038</td>\n",
              "      <td>25.794964</td>\n",
              "      <td>75.977279</td>\n",
              "      <td>82.086520</td>\n",
              "      <td>0.150737</td>\n",
              "    </tr>\n",
              "    <tr>\n",
              "      <th>std</th>\n",
              "      <td>978.753033</td>\n",
              "      <td>8.592878</td>\n",
              "      <td>1.019081</td>\n",
              "      <td>11.879078</td>\n",
              "      <td>0.170299</td>\n",
              "      <td>0.080309</td>\n",
              "      <td>0.464719</td>\n",
              "      <td>0.158153</td>\n",
              "      <td>45.247430</td>\n",
              "      <td>22.29203</td>\n",
              "      <td>12.023581</td>\n",
              "      <td>4.115449</td>\n",
              "      <td>11.971868</td>\n",
              "      <td>24.244753</td>\n",
              "      <td>0.357846</td>\n",
              "    </tr>\n",
              "    <tr>\n",
              "      <th>min</th>\n",
              "      <td>0.000000</td>\n",
              "      <td>32.000000</td>\n",
              "      <td>1.000000</td>\n",
              "      <td>0.000000</td>\n",
              "      <td>0.000000</td>\n",
              "      <td>0.000000</td>\n",
              "      <td>0.000000</td>\n",
              "      <td>0.000000</td>\n",
              "      <td>107.000000</td>\n",
              "      <td>83.50000</td>\n",
              "      <td>48.000000</td>\n",
              "      <td>15.960000</td>\n",
              "      <td>45.000000</td>\n",
              "      <td>40.000000</td>\n",
              "      <td>0.000000</td>\n",
              "    </tr>\n",
              "    <tr>\n",
              "      <th>25%</th>\n",
              "      <td>847.250000</td>\n",
              "      <td>42.000000</td>\n",
              "      <td>1.000000</td>\n",
              "      <td>0.000000</td>\n",
              "      <td>0.000000</td>\n",
              "      <td>0.000000</td>\n",
              "      <td>0.000000</td>\n",
              "      <td>0.000000</td>\n",
              "      <td>206.000000</td>\n",
              "      <td>117.00000</td>\n",
              "      <td>74.500000</td>\n",
              "      <td>23.020000</td>\n",
              "      <td>68.000000</td>\n",
              "      <td>71.000000</td>\n",
              "      <td>0.000000</td>\n",
              "    </tr>\n",
              "    <tr>\n",
              "      <th>50%</th>\n",
              "      <td>1694.500000</td>\n",
              "      <td>49.000000</td>\n",
              "      <td>2.000000</td>\n",
              "      <td>0.000000</td>\n",
              "      <td>0.000000</td>\n",
              "      <td>0.000000</td>\n",
              "      <td>0.000000</td>\n",
              "      <td>0.000000</td>\n",
              "      <td>234.000000</td>\n",
              "      <td>128.50000</td>\n",
              "      <td>82.000000</td>\n",
              "      <td>25.380000</td>\n",
              "      <td>75.000000</td>\n",
              "      <td>78.000000</td>\n",
              "      <td>0.000000</td>\n",
              "    </tr>\n",
              "    <tr>\n",
              "      <th>75%</th>\n",
              "      <td>2541.750000</td>\n",
              "      <td>56.000000</td>\n",
              "      <td>3.000000</td>\n",
              "      <td>20.000000</td>\n",
              "      <td>0.000000</td>\n",
              "      <td>0.000000</td>\n",
              "      <td>1.000000</td>\n",
              "      <td>0.000000</td>\n",
              "      <td>264.000000</td>\n",
              "      <td>144.00000</td>\n",
              "      <td>90.000000</td>\n",
              "      <td>28.040000</td>\n",
              "      <td>83.000000</td>\n",
              "      <td>87.000000</td>\n",
              "      <td>0.000000</td>\n",
              "    </tr>\n",
              "    <tr>\n",
              "      <th>max</th>\n",
              "      <td>3389.000000</td>\n",
              "      <td>70.000000</td>\n",
              "      <td>4.000000</td>\n",
              "      <td>70.000000</td>\n",
              "      <td>1.000000</td>\n",
              "      <td>1.000000</td>\n",
              "      <td>1.000000</td>\n",
              "      <td>1.000000</td>\n",
              "      <td>696.000000</td>\n",
              "      <td>295.00000</td>\n",
              "      <td>142.500000</td>\n",
              "      <td>56.800000</td>\n",
              "      <td>143.000000</td>\n",
              "      <td>394.000000</td>\n",
              "      <td>1.000000</td>\n",
              "    </tr>\n",
              "  </tbody>\n",
              "</table>\n",
              "</div>"
            ],
            "text/plain": [
              "                ID          Age  ...  Glucose_level  Ten_Year_Risk\n",
              "count  3390.000000  3390.000000  ...    3086.000000    3390.000000\n",
              "mean   1694.500000    49.542183  ...      82.086520       0.150737\n",
              "std     978.753033     8.592878  ...      24.244753       0.357846\n",
              "min       0.000000    32.000000  ...      40.000000       0.000000\n",
              "25%     847.250000    42.000000  ...      71.000000       0.000000\n",
              "50%    1694.500000    49.000000  ...      78.000000       0.000000\n",
              "75%    2541.750000    56.000000  ...      87.000000       0.000000\n",
              "max    3389.000000    70.000000  ...     394.000000       1.000000\n",
              "\n",
              "[8 rows x 15 columns]"
            ]
          },
          "metadata": {},
          "execution_count": 12
        }
      ]
    },
    {
      "cell_type": "markdown",
      "metadata": {
        "id": "Umf3HhhcyOK8"
      },
      "source": [
        "**Varible Breakdown:**\n",
        "\n",
        "\n",
        "---\n",
        "\n",
        "  If we want to understands how much individual feature that contibuting for the prediction, we want to understands nature of the feature. if we understands its more intuitive to make hypothesis. "
      ]
    },
    {
      "cell_type": "markdown",
      "metadata": {
        "id": "LPzYsoU2yS00"
      },
      "source": [
        "**ID:**\n",
        "\n",
        "  Distinct numericals assigned to every sample for health register and Track system."
      ]
    },
    {
      "cell_type": "code",
      "metadata": {
        "colab": {
          "base_uri": "https://localhost:8080/"
        },
        "id": "8DcvGS1dyLBW",
        "outputId": "673d15b4-c6d8-419f-da91-d92f76e70617"
      },
      "source": [
        "cardio_df['ID'].unique()"
      ],
      "execution_count": null,
      "outputs": [
        {
          "output_type": "execute_result",
          "data": {
            "text/plain": [
              "array([   0,    1,    2, ..., 3387, 3388, 3389])"
            ]
          },
          "metadata": {},
          "execution_count": 13
        }
      ]
    },
    {
      "cell_type": "markdown",
      "metadata": {
        "id": "cNFOAuVCyYgF"
      },
      "source": [
        "**Education:**\n",
        "\n",
        "Demographic information of every individuals considered as a privacy encoded in 1 to 4 scale. And some patients details are missing. "
      ]
    },
    {
      "cell_type": "code",
      "metadata": {
        "colab": {
          "base_uri": "https://localhost:8080/"
        },
        "id": "Lh_LMcTNyVzR",
        "outputId": "c46d3041-63bc-4ca4-ab88-583beefb880f"
      },
      "source": [
        "cardio_df['Education'].unique()"
      ],
      "execution_count": null,
      "outputs": [
        {
          "output_type": "execute_result",
          "data": {
            "text/plain": [
              "array([ 2.,  4.,  1.,  3., nan])"
            ]
          },
          "metadata": {},
          "execution_count": 14
        }
      ]
    },
    {
      "cell_type": "markdown",
      "metadata": {
        "id": "IMXwXE99yfWm"
      },
      "source": [
        "**Gender:**\n",
        "\n",
        "  Categorical feature is patient is Male(M) or Female(F)."
      ]
    },
    {
      "cell_type": "markdown",
      "metadata": {
        "id": "jRNS0hReyiOk"
      },
      "source": [
        "**Smoking:**\n",
        "\n",
        "Categorical feature whether the patient have a habit of smoking(YES) or not(YES). Its an important factor, is patient who having habit of smoking has higher chance of Heart disease.\n",
        "\n",
        "**Cigaretes per Day:**\n",
        "\n",
        "  32 distinct numericals as how many cigarets thus patient smokes on a day. Since number of cigaretes per day varies from patient to patient this numericals considered as continous datapoints. "
      ]
    },
    {
      "cell_type": "code",
      "metadata": {
        "colab": {
          "base_uri": "https://localhost:8080/"
        },
        "id": "W_HSyDEKybWY",
        "outputId": "1f4e3fbd-37db-475d-8a58-cfebd65bc9d9"
      },
      "source": [
        "cardio_df['Cig_Per_Day'].unique(),cardio_df['Cig_Per_Day'].nunique()"
      ],
      "execution_count": null,
      "outputs": [
        {
          "output_type": "execute_result",
          "data": {
            "text/plain": [
              "(array([ 3.,  0., 10., 20., 30., 35., 40., 15.,  9., 60., 17., 25.,  5.,\n",
              "        43.,  7., 50., 19., 18.,  1., 45.,  2.,  6., nan, 11.,  8.,  4.,\n",
              "        14., 16., 23., 13., 12., 70., 38.]), 32)"
            ]
          },
          "metadata": {},
          "execution_count": 15
        }
      ]
    },
    {
      "cell_type": "markdown",
      "metadata": {
        "id": "oh1oov1JypeS"
      },
      "source": [
        "**Medical History:** \n",
        "\n",
        "\n",
        "**BP Medication:**\n",
        "  Blood pressure is a force thats exerts blood on the wall of their blood vessels. If patient unders some Blood pressure related medication(Yes-1) or not(No-0). Considered as categorical feature.\n",
        "\n",
        "\n",
        "**Had Stroke:**\n",
        "  Stroke occurs when the blood supply to part of your brain is interrupted or reduced, preventing brain tissue from getting oxygen and nutrients. Brain cells begin to die in minutes. Hence its a crucial feature.\n",
        "  If patient had stroke(Yes - 1) or not(No-0).\n",
        "\n",
        "\n",
        "**was_Hypertensive:**\n",
        "  Hypertensive relates to Blood pressure, hypertensive persons having high risk for cardiovascular disease, stroke, Heart aattack and heart failure. If patient was hypertensive(Yes - 1) or not(No - 0).\n",
        "\n",
        "\n",
        "**Had_Diabetes:**\n",
        "  Diabetes is a disease when blood glucose or sugar level too high. Over a time high glucose in bloods leads to Heart disease and stroke. If patient had diabetes(Yes-1) or not (No-0).\n",
        "\n",
        "\n",
        "**Tol_chol_Level:**\n",
        "  Total cholestrol level - Cholestrol is a waxy, fat-like substaance that created by liver from the food we ate. If there too much cholestrol in blood leads to heart disease. \n",
        "  Here, cholestrol level of every patients recorded it takes continous data ponits. Higher the cholestrol paatient have to classify under risky class.\n",
        "\n",
        "\n",
        "**Systolic BP:**  \n",
        "  Force that exerts blood on the wall of blood vessel when heart beats. Feaatures contains continous spectrum of data.\n",
        "\n",
        "\n",
        "**Diastolic Pressure:**\n",
        "  Force that exerts blood on the wall of blood vessel when heart rests.\n",
        "Feaatures contains continous spectrum of data.\n",
        "\n",
        "\n",
        "**BMI:**\n",
        "  BMI - Body Mass Index, determined from weight and height of patients. Contains continous data points.\n",
        "\n",
        "\n",
        "**Heartrate:**\n",
        "  No of times that heart beats per minute. Higher the rate higher the risk of heart disease. Rates recoreded considered as continous data points.\n",
        "\n",
        "\n",
        "**Glucose_level:**\n",
        "  Level of glucose in patients blood, higher glucose level accumltes in blood vessels leads to heart disease. levels recorded for every patients in continous data points. "
      ]
    },
    {
      "cell_type": "markdown",
      "metadata": {
        "id": "BJCv2c3ay5xb"
      },
      "source": [
        "##Handling Null Nalues:"
      ]
    },
    {
      "cell_type": "code",
      "metadata": {
        "colab": {
          "base_uri": "https://localhost:8080/"
        },
        "id": "L3gVqu5XylKX",
        "outputId": "9722cab3-3a75-4bc5-ed4f-d576b0f7eaba"
      },
      "source": [
        "#getting null values\n",
        "cardio_df.isna().sum().sort_values(ascending=False)"
      ],
      "execution_count": null,
      "outputs": [
        {
          "output_type": "execute_result",
          "data": {
            "text/plain": [
              "Glucose_level       304\n",
              "Education            87\n",
              "BP_Medication        44\n",
              "Tot_chol_Level       38\n",
              "Cig_Per_Day          22\n",
              "BMI                  14\n",
              "heartRate             1\n",
              "Ten_Year_Risk         0\n",
              "Age                   0\n",
              "Gender                0\n",
              "Smoking               0\n",
              "Was_Hypertensive      0\n",
              "Had_Stroke            0\n",
              "Had_Diabetes          0\n",
              "Systolic_BP           0\n",
              "Diastolic _BP         0\n",
              "ID                    0\n",
              "dtype: int64"
            ]
          },
          "metadata": {},
          "execution_count": 16
        }
      ]
    },
    {
      "cell_type": "code",
      "metadata": {
        "colab": {
          "base_uri": "https://localhost:8080/"
        },
        "id": "fOD8cCMAzxkd",
        "outputId": "450be1d2-f1d0-4d51-a0b3-7918c68d7c0d"
      },
      "source": [
        "#installing required package\n",
        "pip install missingno"
      ],
      "execution_count": 26,
      "outputs": [
        {
          "output_type": "stream",
          "text": [
            "Requirement already satisfied: missingno in /usr/local/lib/python3.7/dist-packages (0.5.0)\n",
            "Requirement already satisfied: numpy in /usr/local/lib/python3.7/dist-packages (from missingno) (1.19.5)\n",
            "Requirement already satisfied: matplotlib in /usr/local/lib/python3.7/dist-packages (from missingno) (3.2.2)\n",
            "Requirement already satisfied: seaborn in /usr/local/lib/python3.7/dist-packages (from missingno) (0.11.1)\n",
            "Requirement already satisfied: scipy in /usr/local/lib/python3.7/dist-packages (from missingno) (1.4.1)\n",
            "Requirement already satisfied: python-dateutil>=2.1 in /usr/local/lib/python3.7/dist-packages (from matplotlib->missingno) (2.8.2)\n",
            "Requirement already satisfied: cycler>=0.10 in /usr/local/lib/python3.7/dist-packages (from matplotlib->missingno) (0.10.0)\n",
            "Requirement already satisfied: pyparsing!=2.0.4,!=2.1.2,!=2.1.6,>=2.0.1 in /usr/local/lib/python3.7/dist-packages (from matplotlib->missingno) (2.4.7)\n",
            "Requirement already satisfied: kiwisolver>=1.0.1 in /usr/local/lib/python3.7/dist-packages (from matplotlib->missingno) (1.3.1)\n",
            "Requirement already satisfied: six in /usr/local/lib/python3.7/dist-packages (from cycler>=0.10->matplotlib->missingno) (1.15.0)\n",
            "Requirement already satisfied: pandas>=0.23 in /usr/local/lib/python3.7/dist-packages (from seaborn->missingno) (1.1.5)\n",
            "Requirement already satisfied: pytz>=2017.2 in /usr/local/lib/python3.7/dist-packages (from pandas>=0.23->seaborn->missingno) (2018.9)\n"
          ],
          "name": "stdout"
        }
      ]
    },
    {
      "cell_type": "markdown",
      "metadata": {
        "id": "MeGm7Ye5z9Ra"
      },
      "source": [
        "msno library hepls to understand how missing spreads across the data, and correlation between the features."
      ]
    },
    {
      "cell_type": "code",
      "metadata": {
        "id": "b6LYgPUDy_U5"
      },
      "source": [
        "#importing library\n",
        "import missingno as msno"
      ],
      "execution_count": 27,
      "outputs": []
    },
    {
      "cell_type": "code",
      "metadata": {
        "colab": {
          "base_uri": "https://localhost:8080/",
          "height": 707
        },
        "id": "V4w5vvq00AO4",
        "outputId": "d8f23fba-b3ae-4746-a4a9-8aa108262d99"
      },
      "source": [
        "#plotting graph to get the null values count\n",
        "fig = msno.bar(cardio_df)"
      ],
      "execution_count": 28,
      "outputs": [
        {
          "output_type": "display_data",
          "data": {
            "image/png": "[encoded data removed]",
            "text/plain": [
              "<Figure size 1800x720 with 3 Axes>"
            ]
          },
          "metadata": {
            "needs_background": "light"
          }
        }
      ]
    },
    {
      "cell_type": "markdown",
      "metadata": {
        "id": "n2Ztx9XF0F3F"
      },
      "source": [
        "**OBSERVATION:** \n",
        "\n",
        "HERE WE CAN SEE THE NUMBER OF NULL VALUES IN DIFFERENT VARIABLES:\n",
        "\n",
        "Glucose_level       304\n",
        "\n",
        "Education            87\n",
        "\n",
        "BP_Medication        44\n",
        "\n",
        "Tot_chol_Level       38\n",
        "\n",
        "Cig_Per_Day          22\n",
        "\n",
        "BMI                  14\n",
        "\n",
        "heartRate             1"
      ]
    },
    {
      "cell_type": "code",
      "metadata": {
        "colab": {
          "base_uri": "https://localhost:8080/",
          "height": 676
        },
        "id": "aywIqK4y0Cmh",
        "outputId": "431d02c1-3141-4509-8552-a5061c38e9a6"
      },
      "source": [
        "#getting matrix for missing values\n",
        "fig1 = msno.matrix(cardio_df)"
      ],
      "execution_count": 29,
      "outputs": [
        {
          "output_type": "display_data",
          "data": {
            "image/png": "[encoded data removed]",
            "text/plain": [
              "<Figure size 1800x720 with 2 Axes>"
            ]
          },
          "metadata": {
            "needs_background": "light"
          }
        }
      ]
    },
    {
      "cell_type": "markdown",
      "metadata": {
        "id": "1yWDdSUM0MT-"
      },
      "source": [
        "**OBSERVATION:** \n",
        "\n",
        "Above we can see The sparkline at right summarizes the general shape of the data completeness and points out the rows with the maximum and minimum nullity in the dataset."
      ]
    },
    {
      "cell_type": "code",
      "metadata": {
        "colab": {
          "base_uri": "https://localhost:8080/",
          "height": 788
        },
        "id": "A4JIdT7s1OBc",
        "outputId": "4a6a4721-4331-4399-a4e4-3ee0041c6d02"
      },
      "source": [
        "# missing values correlation chart\n",
        "fig2 = msno.heatmap(cardio_df)\n",
        "\n"
      ],
      "execution_count": 42,
      "outputs": [
        {
          "output_type": "display_data",
          "data": {
            "image/png": "[encoded data removed]",
            "text/plain": [
              "<Figure size 1440x864 with 2 Axes>"
            ]
          },
          "metadata": {
            "needs_background": "light"
          }
        }
      ]
    },
    {
      "cell_type": "markdown",
      "metadata": {
        "id": "5O3fpMBr1Uf8"
      },
      "source": [
        "**OBSERVATION:**\n",
        "\n",
        "The heatmap function shows that there is modearte correlations between missing values in Glucose level with Total cholestrol level."
      ]
    },
    {
      "cell_type": "markdown",
      "metadata": {
        "id": "lDCKEVGz0Pke"
      },
      "source": [
        "#Missing value Imputation method:\n",
        "  \n",
        "  \n",
        "  \n",
        "  \n",
        "\n",
        "*   KNN\n",
        "*   Multivariate Feature Imputation"
      ]
    },
    {
      "cell_type": "markdown",
      "metadata": {
        "id": "MN8e0v_w0S1O"
      },
      "source": [
        "**KNN imputer:**\n",
        "\n",
        "KNNimputer is a scikit-learn class used to fill out or predict the missing values in a dataset. It is a more useful method which works on the basic approach of the KNN algorithm rather than the naive approach of filling all the values with mean or the median.\n",
        "\n",
        "Each missing feature is imputed using values from n_neighbors nearest neighbors that have a value for the feature. The feature of the neighbors are averaged uniformly or weighted by distance to each neighbor."
      ]
    },
    {
      "cell_type": "markdown",
      "metadata": {
        "id": "bLBRobby0WOF"
      },
      "source": [
        "**FOR NUMERICAL FEATURES:**"
      ]
    },
    {
      "cell_type": "code",
      "metadata": {
        "id": "F7ac39mA0J7C"
      },
      "source": [
        "#importing module\n",
        "from sklearn.impute import KNNImputer"
      ],
      "execution_count": 30,
      "outputs": []
    },
    {
      "cell_type": "code",
      "metadata": {
        "id": "hlHcDN8k0ZFi"
      },
      "source": [
        "#copying dataset in other variable\n",
        "cardio_df1 = cardio_df.copy(deep=True)"
      ],
      "execution_count": 31,
      "outputs": []
    },
    {
      "cell_type": "code",
      "metadata": {
        "id": "veRWd32F0bhG"
      },
      "source": [
        "#applying knn imputer\n",
        "knn_imputer = KNNImputer(n_neighbors=3, weights=\"uniform\",metric='nan_euclidean')"
      ],
      "execution_count": 32,
      "outputs": []
    },
    {
      "cell_type": "markdown",
      "metadata": {
        "id": "dNASCVZH0gwD"
      },
      "source": [
        "***KNN ATTRIBUTES:***\n",
        "\n",
        "**n_neighbor** = Replacing missing values with average of three nearest neighbors with respect to that missing values.\n",
        "\n",
        "**weights** - \"uniform\" equal importance given to all datapoints in the dimensional space.\n",
        "\n",
        "**metric** = \"nan_euclidean\" Distance metric to find the nearest neighbors, lower the distance closer the observation.\n",
        "\n",
        "Here KNN algo finds the three nearest neighbors using distance metric and replace average of three neighbors inplace of coresponding missing values."
      ]
    },
    {
      "cell_type": "code",
      "metadata": {
        "id": "cqRPxtg20dmz"
      },
      "source": [
        "#imputing missing values in feature heartRate\n",
        "cardio_df1['heartRate'] = knn_imputer.fit_transform(cardio_df1[['heartRate']])\n",
        "\n",
        "# imputeing missing values in feature Glucose_level\n",
        "cardio_df1['Glucose_level'] = knn_imputer.fit_transform(cardio_df1[['Glucose_level']])\n",
        "\n",
        "# imputeing missing values in feature Tot_chol_Level\n",
        "cardio_df1['Tot_chol_Level'] = knn_imputer.fit_transform(cardio_df1[['Tot_chol_Level']])\n",
        "\n",
        "# imputeing missing values in feature BMI\n",
        "cardio_df1['BMI'] = knn_imputer.fit_transform(cardio_df1[['BMI']])\n",
        "\n",
        "# imputeing missing values in feature Cig_Per_Day\n",
        "cardio_df1['Cig_Per_Day'] = knn_imputer.fit_transform(cardio_df1[['Cig_Per_Day']])"
      ],
      "execution_count": 33,
      "outputs": []
    },
    {
      "cell_type": "markdown",
      "metadata": {
        "id": "esozNgjl0nPj"
      },
      "source": [
        "**FOR CATEGORICAL FEATURES:**"
      ]
    },
    {
      "cell_type": "markdown",
      "metadata": {
        "id": "duxucmx-0r1B"
      },
      "source": [
        "**SIMPLE IMPUTER:**\n",
        "\n",
        "SimpleImputer is a scikit-learn class which is helpful in handling the missing data in the predictive model dataset. It replaces the NaN values with a specified placeholder. stategy : The data which will replace the NaN values from the dataset."
      ]
    },
    {
      "cell_type": "code",
      "metadata": {
        "id": "XzleliCy0j1X"
      },
      "source": [
        "#importing simple imputer class\n",
        "from sklearn.impute import SimpleImputer"
      ],
      "execution_count": 34,
      "outputs": []
    },
    {
      "cell_type": "code",
      "metadata": {
        "id": "pGNjtY4i0ue2"
      },
      "source": [
        "#applying simple imputer\n",
        "imp = SimpleImputer(missing_values=np.nan, strategy='most_frequent')"
      ],
      "execution_count": 35,
      "outputs": []
    },
    {
      "cell_type": "code",
      "metadata": {
        "id": "tDU449Sy0wT5"
      },
      "source": [
        "# impute missing values in Education\n",
        "cardio_df1['Education'] = imp.fit_transform(cardio_df1[['Education']])\n",
        "# impute missing values in feature BP_Medication\n",
        "cardio_df1['BP_Medication'] = imp.fit_transform(cardio_df1[['BP_Medication']])"
      ],
      "execution_count": 37,
      "outputs": []
    },
    {
      "cell_type": "code",
      "metadata": {
        "colab": {
          "base_uri": "https://localhost:8080/",
          "height": 676
        },
        "id": "s6mTJ05j0yKu",
        "outputId": "afcbbec7-6d28-4529-8448-6683242bcc77"
      },
      "source": [
        "#plotting matrix to see the available null values\n",
        "fig4 = msno.matrix(cardio_df1)"
      ],
      "execution_count": 38,
      "outputs": [
        {
          "output_type": "display_data",
          "data": {
            "image/png": "[encoded data removed]",
            "text/plain": [
              "<Figure size 1800x720 with 2 Axes>"
            ]
          },
          "metadata": {
            "needs_background": "light"
          }
        }
      ]
    },
    {
      "cell_type": "markdown",
      "metadata": {
        "id": "ny7yggM807dj"
      },
      "source": [
        "**OBSERVATION:**\n",
        "\n",
        "Now here we can see there is no null value present now after using KNN and simple imputer."
      ]
    },
    {
      "cell_type": "code",
      "metadata": {
        "colab": {
          "base_uri": "https://localhost:8080/"
        },
        "id": "XsL_1R2s03yO",
        "outputId": "bfcd10cb-8adc-4f50-e2d1-857b029e55d2"
      },
      "source": [
        "#looking for null values\n",
        "cardio_df1.isna().sum()"
      ],
      "execution_count": 39,
      "outputs": [
        {
          "output_type": "execute_result",
          "data": {
            "text/plain": [
              "ID                  0\n",
              "Age                 0\n",
              "Education           0\n",
              "Gender              0\n",
              "Smoking             0\n",
              "Cig_Per_Day         0\n",
              "BP_Medication       0\n",
              "Had_Stroke          0\n",
              "Was_Hypertensive    0\n",
              "Had_Diabetes        0\n",
              "Tot_chol_Level      0\n",
              "Systolic_BP         0\n",
              "Diastolic _BP       0\n",
              "BMI                 0\n",
              "heartRate           0\n",
              "Glucose_level       0\n",
              "Ten_Year_Risk       0\n",
              "dtype: int64"
            ]
          },
          "metadata": {},
          "execution_count": 39
        }
      ]
    },
    {
      "cell_type": "code",
      "metadata": {
        "id": "qtM4WVEM0-ZT"
      },
      "source": [
        ""
      ],
      "execution_count": null,
      "outputs": []
    }
  ]
}